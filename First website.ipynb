{
 "cells": [
  {
   "cell_type": "code",
   "execution_count": null,
   "id": "01e94f88",
   "metadata": {},
   "outputs": [],
   "source": [
    "import streamlit as st\n",
    "\n",
    "st.set_page_config(page_title='Uncovering Data with Miri', page_icon=':tada:', layout= 'wide')\n",
    "\n",
    "st.subheader('Hi, I am Miriam :wave:')\n",
    "st.title(\"A courius Mexican\")\n",
    "st.write ('I am passionate about learning')\n",
    "st.write('[My Linkdin >](https://www.linkedin.com/in/miriam-g-879900101/)')"
   ]
  },
  {
   "cell_type": "code",
   "execution_count": null,
   "id": "660dbf93-63ab-4bcb-9185-818e893aa8c4",
   "metadata": {},
   "outputs": [],
   "source": []
  }
 ],
 "metadata": {
  "kernelspec": {
   "display_name": "Python 3 (ipykernel)",
   "language": "python",
   "name": "python3"
  },
  "language_info": {
   "codemirror_mode": {
    "name": "ipython",
    "version": 3
   },
   "file_extension": ".py",
   "mimetype": "text/x-python",
   "name": "python",
   "nbconvert_exporter": "python",
   "pygments_lexer": "ipython3",
   "version": "3.11.7"
  }
 },
 "nbformat": 4,
 "nbformat_minor": 5
}
